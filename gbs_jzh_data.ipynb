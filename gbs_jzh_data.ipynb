{
 "cells": [
  {
   "cell_type": "markdown",
   "id": "5ef3f6c5-2513-4adc-8ea4-d8169cdace9b",
   "metadata": {},
   "source": [
    "<font size=\"4\">**Install** ```zenodo_get``` **to download the files from Zenodo more easily**</font>"
   ]
  },
  {
   "cell_type": "code",
   "execution_count": null,
   "id": "4a27500a-1c48-40ce-86da-26bc99a814bb",
   "metadata": {
    "tags": []
   },
   "outputs": [],
   "source": [
    "!pip install zenodo-get"
   ]
  },
  {
   "cell_type": "markdown",
   "id": "ef1bbe9e-d9a0-4f26-8b9a-75edd4ec537c",
   "metadata": {},
   "source": [
    "<font size=\"4\">**Download files using the DOI**</font>"
   ]
  },
  {
   "cell_type": "code",
   "execution_count": null,
   "id": "f78d76ae-af07-4789-b760-f8d61fa6af91",
   "metadata": {
    "tags": []
   },
   "outputs": [],
   "source": [
    "!zenodo_get https://doi.org/10.5281/zenodo.7194775"
   ]
  },
  {
   "cell_type": "markdown",
   "id": "ef76ff28-3a50-4ef7-993b-0b7a2c1151c6",
   "metadata": {},
   "source": [
    "<font size=\"4\">**Unzip the file**</font>"
   ]
  },
  {
   "cell_type": "code",
   "execution_count": null,
   "id": "5432e806-b77b-477a-922b-e01c41dcdd94",
   "metadata": {
    "tags": []
   },
   "outputs": [],
   "source": [
    "!unzip -q clss_model_gbs.zip -d ./gbs_data"
   ]
  },
  {
   "cell_type": "markdown",
   "id": "cb1ed340-4b0f-4b1f-9a7b-6846c72c5e55",
   "metadata": {},
   "source": [
    "<font size=\"4\">The ```.zip``` file contains the **covariance matrices**, **grouped click probabilities** and other data from the Jiuzhang 1.0 and 2.0 experiments. Jiuzhang 2.0 has **seven different configurations** with different powers and focus waists of the light source. We identify each configuration with a number from 1 to 7. The Jiuzhang 1.0 experiment is identified with the number 0. In the following table we list all the configurations with their corresponding ID number:</font>\n",
    "\n",
    "Experiment | Power (W) | Focus waist (μm) | Exp ID | \n",
    ":---: | :---: | :---: | :---: |\n",
    "Jiuzhang 1.0 | -- | -- | 0 |   \n",
    "Jiuzhang 2.0 | 0.15 | 65 | 1 |\n",
    "Jiuzhang 2.0 | 0.3 | 65 | 2 |\n",
    "Jiuzhang 2.0 | 0.6 | 65 | 3 |\n",
    "Jiuzhang 2.0 | 1.0 | 65 | 4 |\n",
    "Jiuzhang 2.0 | 1.65 | 65 | 5 |\n",
    "Jiuzhang 2.0 | 1.412 | 125 | 6 |\n",
    "Jiuzhang 2.0 | 0.5 | 125 | 7 | "
   ]
  },
  {
   "cell_type": "markdown",
   "id": "dc707a59-afc3-452e-81fd-2c5df2395fdd",
   "metadata": {},
   "source": [
    "<font size=\"4\">The covariance matrices related to the **ground truth of the experiments** (i.e., the theoretical model of the experiments) are stored as ```.npy``` files, and are identified as ```out_cov_squeezed_(id).npy```. The ```.zip``` file contains other covariance matrices that correspond to another theoretical model, these are identified as ```out_cov_squashed_(id).npy``` and **should not be used to generate or verify the samples**.</font>\n",
    "\n",
    "<font size=\"4\">Similarly, the grouped click probabilities corresponding to the ground truth of the experiments are identified as ```click_probs_squeezed_(id).npy```. The grouped click probabilities obtained from the experimental samples are identified as ```click_probs_exp_(id).npy```. The files identified as ```click_probs_squashed_(id).npy``` **should not be used to verify the samples**.</font>"
   ]
  },
  {
   "cell_type": "code",
   "execution_count": null,
   "id": "3305e138-5976-4a81-9f71-bb2adbcb68d5",
   "metadata": {},
   "outputs": [],
   "source": [
    "import numpy as np\n",
    "import matplotlib.pyplot as plt"
   ]
  },
  {
   "cell_type": "markdown",
   "id": "9f2a6e4c-66d9-4cd8-810b-32cdd3f11877",
   "metadata": {},
   "source": [
    "<font size=\"4\">Consider an $M$-mode Gaussian state, represented by the operator $\\hat{\\rho}$. Consider also the vector of quadrature (position and momentum) operators $\\boldsymbol{\\hat{r}}=(\\hat{q}_1,\\dots,\\hat{q}_M,\\hat{p}_1,\\dots,\\hat{p}_M)$.</font>\n",
    "\n",
    "<font size=\"4\">The state $\\hat{\\rho}$ can be completely parametrized by the vector of first moments $\\bar{r}=\\mathrm{Tr}(\\hat{r}\\hat{\\rho})$ (where the trace is taken component by component) and a covariance matrix $\\boldsymbol{\\sigma},$ whose components are calculated as $\\sigma_{jk}=\\frac{1}{2}\\mathrm{Tr}\\left(\\left\\{(\\hat{r}_k-\\bar{r}_k),(\\hat{r}_j-\\bar{r}_j)\\right\\}\\hat{\\rho}\\right)$. Here, $\\left\\{\\cdot,\\cdot\\right\\}$ stands for the anticommutator of two operators.</font>\n",
    "\n",
    "<font size=\"4\">In the case of the Jiuzhang experiments $\\bar{r}=0$ and the state $\\hat{\\rho}$, which is the output state of the interferometer, is completely described by the covariance matrix. It is important to note that $\\boldsymbol{\\sigma}$ is computed according to the order indicated by $\\boldsymbol{\\hat{r}}$.</font>\n",
    "\n",
    "<font size=\"4\">It can be checked that the covariance matrices of the Jiuzhang experiments have size $2M\\times2M$, with $M=100$ for Jiuzhang 1.0 and $M=144$ for the different configurations of Jiuzhang 2.0. It can also be checked that they are symmetric.</font>"
   ]
  },
  {
   "cell_type": "code",
   "execution_count": null,
   "id": "74fcf929-a27c-4bda-9e6f-ae790685fd53",
   "metadata": {},
   "outputs": [],
   "source": [
    "cov_sqz_0 = np.load(\"./gbs_data/covariance_matrices/out_cov_squeezed_0.npy\")\n",
    "cov_sqz_3 = np.load(\"./gbs_data/covariance_matrices/out_cov_squeezed_3.npy\")"
   ]
  },
  {
   "cell_type": "code",
   "execution_count": null,
   "id": "5314bf0e-e98b-4242-b5dc-ccd2c8ecf75a",
   "metadata": {},
   "outputs": [],
   "source": [
    "np.shape(cov_sqz_0), np.shape(cov_sqz_3)"
   ]
  },
  {
   "cell_type": "code",
   "execution_count": null,
   "id": "7e2f4ac8-fa3e-4be3-b7a8-0737d4029313",
   "metadata": {},
   "outputs": [],
   "source": [
    "np.allclose(cov_sqz_0, cov_sqz_0.T), np.allclose(cov_sqz_3, cov_sqz_3.T)"
   ]
  },
  {
   "cell_type": "markdown",
   "id": "5716780d-ef41-4b86-8a0d-9c105883598b",
   "metadata": {},
   "source": [
    "<font size=\"4\">If the package ```thewalrus``` is installed, it can be verified that the covariance matrices **satisfy the uncertainty principle** (using the function ```is_valid_cov```), and **do not correspond to a classical Gaussian state** (using the function ```is_classical_cov```)</font>\n",
    "\n",
    "<font size=\"4\">```thewalrus``` can be installed using the command ```pip install thewalrus```</font>"
   ]
  },
  {
   "cell_type": "code",
   "execution_count": null,
   "id": "f1b808d9-6b2f-4181-8d97-2e9f4661c6f3",
   "metadata": {},
   "outputs": [],
   "source": [
    "from thewalrus.quantum import is_valid_cov, is_classical_cov"
   ]
  },
  {
   "cell_type": "code",
   "execution_count": null,
   "id": "9e1108ea-ca71-47fd-8641-689b7336c323",
   "metadata": {},
   "outputs": [],
   "source": [
    "is_valid_cov(cov_sqz_0), is_valid_cov(cov_sqz_3)"
   ]
  },
  {
   "cell_type": "code",
   "execution_count": null,
   "id": "307684c3-a08b-4f1f-95f3-9487a2b656bc",
   "metadata": {},
   "outputs": [],
   "source": [
    "is_classical_cov(cov_sqz_0), is_classical_cov(cov_sqz_3)"
   ]
  },
  {
   "cell_type": "markdown",
   "id": "01e4c40a-acb4-44ad-b6ee-37fdbf9bdf53",
   "metadata": {},
   "source": [
    "<font size=\"4\">One can also compute the **photon number density** of the output state (the ratio between the mean number of photons in the state and the number of modes), and the corresponding **mean number of clicks**.</font>"
   ]
  },
  {
   "cell_type": "code",
   "execution_count": null,
   "id": "5d24ea9c-6f9c-460f-8b46-22313991ede6",
   "metadata": {},
   "outputs": [],
   "source": [
    "from thewalrus.quantum import photon_number_mean_vector, mean_number_of_clicks"
   ]
  },
  {
   "cell_type": "code",
   "execution_count": null,
   "id": "5570a63f-c0ae-43d2-8e3d-fd36989f2ad2",
   "metadata": {},
   "outputs": [],
   "source": [
    "photon_number_mean_vector(np.zeros(len(cov_sqz_0)), cov_sqz_0).mean()"
   ]
  },
  {
   "cell_type": "code",
   "execution_count": null,
   "id": "1aa5226d-74c0-4ba7-840f-c2374ccea916",
   "metadata": {},
   "outputs": [],
   "source": [
    "photon_number_mean_vector(np.zeros(len(cov_sqz_3)), cov_sqz_3).mean() "
   ]
  },
  {
   "cell_type": "code",
   "execution_count": null,
   "id": "1138ba23-51cf-4916-a0ac-ed7cafc7da7c",
   "metadata": {},
   "outputs": [],
   "source": [
    "mean_number_of_clicks(cov_sqz_0), mean_number_of_clicks(cov_sqz_3) "
   ]
  },
  {
   "cell_type": "markdown",
   "id": "c8de4972-ab2a-4e55-abad-be0d0c59b8ee",
   "metadata": {},
   "source": [
    "<font size=\"4\">The grouped click distribution (also known as total click distribution) can be estimated from the samples by computing the total number of clicks (ones), $C$, in each sample, and then calculating the frequency of each $C$. We estimated this distribution for the experimental samples of the Jiuzhang experiments.</font>"
   ]
  },
  {
   "cell_type": "code",
   "execution_count": null,
   "id": "fb1170c2-ead8-48f3-8341-f7a2facd817d",
   "metadata": {},
   "outputs": [],
   "source": [
    "total_click_dist_exp_0 = np.load('./gbs_data/click_probs/click_probs_exp_0.npy')"
   ]
  },
  {
   "cell_type": "code",
   "execution_count": null,
   "id": "df72cffe-33d5-402f-a0ec-271d11ca99fe",
   "metadata": {},
   "outputs": [],
   "source": [
    "fig = plt.figure(figsize=(10,7))\n",
    "plt.plot(total_click_dist_exp_0, 'k*', label='Experimental')\n",
    "plt.xlabel(r'Total number of clicks $C$', fontsize=16)\n",
    "plt.ylabel(r'Total click probability $P(C)$', fontsize=16)\n",
    "plt.legend(fontsize=14)\n",
    "plt.title(r'Jiuzhang 1.0, $\\nu = 0.786$', fontsize=18)\n",
    "plt.show()"
   ]
  },
  {
   "cell_type": "code",
   "execution_count": null,
   "id": "e668d9f1-390e-49da-97d1-3c865cfcb53d",
   "metadata": {},
   "outputs": [],
   "source": [
    "total_click_dist_exp_3 = np.load('./gbs_data/click_probs/click_probs_exp_3.npy')"
   ]
  },
  {
   "cell_type": "code",
   "execution_count": null,
   "id": "cf77d54a-f5b3-40b7-ac6b-9d10be077a1f",
   "metadata": {},
   "outputs": [],
   "source": [
    "fig = plt.figure(figsize=(10,7))\n",
    "plt.plot(total_click_dist_exp_3, 'k*', label='Experimental')\n",
    "plt.xlabel(r'Total number of clicks $C$', fontsize=16)\n",
    "plt.ylabel(r'Total click probability $P(C)$', fontsize=16)\n",
    "plt.legend(fontsize=14)\n",
    "plt.title(r'Jiuzhang 2.0, $\\nu = 0.218$', fontsize=18)\n",
    "plt.show()"
   ]
  },
  {
   "cell_type": "markdown",
   "id": "3ac91c41-cf16-4cb0-ab5a-a45e71c56bb2",
   "metadata": {},
   "source": [
    "<font size=\"4\">The total click distribution can also be used to estimate the mean number of clicks $\\bar{C}=\\sum_C C\\,P(C)$.</font>"
   ]
  },
  {
   "cell_type": "code",
   "execution_count": null,
   "id": "d105fa0d-25bf-47cf-afb5-a86dd25de388",
   "metadata": {},
   "outputs": [],
   "source": [
    "np.arange(0, len(total_click_dist_exp_0)) @ (total_click_dist_exp_0)"
   ]
  },
  {
   "cell_type": "code",
   "execution_count": null,
   "id": "44cb8056-a1a5-4905-ad47-bc5c596c4a41",
   "metadata": {},
   "outputs": [],
   "source": [
    "np.arange(0, len(total_click_dist_exp_3)) @ (total_click_dist_exp_3)"
   ]
  },
  {
   "cell_type": "markdown",
   "id": "a6e4fc2c-edaa-44d6-b069-83f4c0dd28b9",
   "metadata": {},
   "source": [
    "<font size=\"4\">Interestingly, the total click distribution, unlike the distribution of individual samples, can be simulated efficiently. There is a function to do this in ```thewalrus``` (from v0.20.0 ownward) called ```grouped_click_probabilities```. This function does not take a covariance matrix as input, it uses the squeezing parameters and the transfer matrix of the experiment (the matrix representing the interferometer). This information is also in the ```.zip``` file in case it is necessary.</font>\n",
    "\n",
    "<font size=\"4\">We simulated these distributions for the ground truth of the different setups of the Jiuzhang experiments. They can be used to check (to some extent) if sets of samples (experimental or classically generated) are really following the expected distribution.</font>\n",
    "\n",
    "<font size=\"4\">In the ```click_probs_squeezed_(id).npy``` you can find the simulated probabilities and their corresponding uncertainties.</font>"
   ]
  },
  {
   "cell_type": "code",
   "execution_count": null,
   "id": "6870be7b-97ae-480c-a381-4a241ad256ef",
   "metadata": {},
   "outputs": [],
   "source": [
    "total_click_dist_sqz_0 = np.load('./gbs_data/click_probs/click_probs_squeezed_0.npy')\n",
    "total_click_dist_sqz_3 = np.load('./gbs_data/click_probs/click_probs_squeezed_3.npy')"
   ]
  },
  {
   "cell_type": "code",
   "execution_count": null,
   "id": "43f8385f-9d9d-43bb-8464-063fd36d2817",
   "metadata": {},
   "outputs": [],
   "source": [
    "fig = plt.figure(figsize=(10,7))\n",
    "plt.plot(total_click_dist_exp_0, 'k*', label='Experimental')\n",
    "plt.plot(total_click_dist_sqz_0[0], 'r--', label='Theoretical')\n",
    "plt.xlabel(r'Total number of clicks $C$', fontsize=16)\n",
    "plt.ylabel(r'Total click probability $P(C)$', fontsize=16)\n",
    "plt.legend(fontsize=14)\n",
    "plt.title(r'Jiuzhang 1.0, $\\nu = 0.786$', fontsize=18)\n",
    "plt.show()"
   ]
  },
  {
   "cell_type": "code",
   "execution_count": null,
   "id": "4fda94f5-e7bc-418d-b264-a072d4f94328",
   "metadata": {},
   "outputs": [],
   "source": [
    "fig = plt.figure(figsize=(10,7))\n",
    "plt.plot(total_click_dist_exp_3, 'k*', label='Experimental')\n",
    "plt.plot(total_click_dist_sqz_3[0], 'r--', label='Theoretical')\n",
    "plt.xlabel(r'Total number of clicks $C$', fontsize=16)\n",
    "plt.ylabel(r'Total click probability $P(C)$', fontsize=16)\n",
    "plt.legend(fontsize=14)\n",
    "plt.title(r'Jiuzhang 2.0, $\\nu = 0.218$', fontsize=18)\n",
    "plt.show()"
   ]
  },
  {
   "cell_type": "code",
   "execution_count": null,
   "id": "c2e2519e-417b-44f1-a365-f732c95ff613",
   "metadata": {},
   "outputs": [],
   "source": []
  }
 ],
 "metadata": {
  "kernelspec": {
   "display_name": "Python 3 (ipykernel)",
   "language": "python",
   "name": "python3"
  },
  "language_info": {
   "codemirror_mode": {
    "name": "ipython",
    "version": 3
   },
   "file_extension": ".py",
   "mimetype": "text/x-python",
   "name": "python",
   "nbconvert_exporter": "python",
   "pygments_lexer": "ipython3",
   "version": "3.9.12"
  }
 },
 "nbformat": 4,
 "nbformat_minor": 5
}
